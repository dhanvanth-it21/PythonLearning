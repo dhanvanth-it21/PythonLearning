{
 "cells": [
  {
   "cell_type": "markdown",
   "id": "4d3341a5",
   "metadata": {},
   "source": [
    "# Errors and Exceptions"
   ]
  },
  {
   "cell_type": "code",
   "execution_count": 1,
   "id": "226411b1",
   "metadata": {},
   "outputs": [
    {
     "ename": "SyntaxError",
     "evalue": "unterminated string literal (detected at line 1) (2715848660.py, line 1)",
     "output_type": "error",
     "traceback": [
      "\u001b[1;36m  Cell \u001b[1;32mIn[1], line 1\u001b[1;36m\u001b[0m\n\u001b[1;33m    a = \"abc\u001b[0m\n\u001b[1;37m        ^\u001b[0m\n\u001b[1;31mSyntaxError\u001b[0m\u001b[1;31m:\u001b[0m unterminated string literal (detected at line 1)\n"
     ]
    }
   ],
   "source": [
    "#SyntaxError\n",
    "a = \"abc    "
   ]
  },
  {
   "cell_type": "code",
   "execution_count": 2,
   "id": "981b5229",
   "metadata": {},
   "outputs": [
    {
     "ename": "ZeroDivisionError",
     "evalue": "division by zero",
     "output_type": "error",
     "traceback": [
      "\u001b[1;31m---------------------------------------------------------------------------\u001b[0m",
      "\u001b[1;31mZeroDivisionError\u001b[0m                         Traceback (most recent call last)",
      "Cell \u001b[1;32mIn[2], line 2\u001b[0m\n\u001b[0;32m      1\u001b[0m \u001b[38;5;66;03m#ZeroDivisionError\u001b[39;00m\n\u001b[1;32m----> 2\u001b[0m a \u001b[38;5;241m=\u001b[39m \u001b[38;5;241m10\u001b[39m\u001b[38;5;241m/\u001b[39m\u001b[38;5;241m0\u001b[39m\n",
      "\u001b[1;31mZeroDivisionError\u001b[0m: division by zero"
     ]
    }
   ],
   "source": [
    "#ZeroDivisionError\n",
    "a = 10/0"
   ]
  },
  {
   "cell_type": "code",
   "execution_count": 3,
   "id": "6dc90b49",
   "metadata": {},
   "outputs": [
    {
     "ename": "NameError",
     "evalue": "name 'a' is not defined",
     "output_type": "error",
     "traceback": [
      "\u001b[1;31m---------------------------------------------------------------------------\u001b[0m",
      "\u001b[1;31mNameError\u001b[0m                                 Traceback (most recent call last)",
      "Cell \u001b[1;32mIn[3], line 2\u001b[0m\n\u001b[0;32m      1\u001b[0m \u001b[38;5;66;03m# NameError\u001b[39;00m\n\u001b[1;32m----> 2\u001b[0m a \u001b[38;5;241m=\u001b[39m a\u001b[38;5;241m*\u001b[39mb\n",
      "\u001b[1;31mNameError\u001b[0m: name 'a' is not defined"
     ]
    }
   ],
   "source": [
    "# NameError\n",
    "a = a*b"
   ]
  },
  {
   "cell_type": "code",
   "execution_count": 4,
   "id": "a61be232",
   "metadata": {},
   "outputs": [
    {
     "ename": "TypeError",
     "evalue": "can only concatenate str (not \"int\") to str",
     "output_type": "error",
     "traceback": [
      "\u001b[1;31m---------------------------------------------------------------------------\u001b[0m",
      "\u001b[1;31mTypeError\u001b[0m                                 Traceback (most recent call last)",
      "Cell \u001b[1;32mIn[4], line 1\u001b[0m\n\u001b[1;32m----> 1\u001b[0m a \u001b[38;5;241m=\u001b[39m \u001b[38;5;124m'\u001b[39m\u001b[38;5;124m1\u001b[39m\u001b[38;5;124m'\u001b[39m \u001b[38;5;241m+\u001b[39m \u001b[38;5;241m2\u001b[39m\n",
      "\u001b[1;31mTypeError\u001b[0m: can only concatenate str (not \"int\") to str"
     ]
    }
   ],
   "source": [
    "##SyntaxError\n",
    "a = '1' + 2"
   ]
  },
  {
   "cell_type": "code",
   "execution_count": 3,
   "id": "2634e0cf",
   "metadata": {},
   "outputs": [
    {
     "ename": "TypeError",
     "evalue": "unsupported operand type(s) for /: 'str' and 'int'",
     "output_type": "error",
     "traceback": [
      "\u001b[1;31m---------------------------------------------------------------------------\u001b[0m",
      "\u001b[1;31mTypeError\u001b[0m                                 Traceback (most recent call last)",
      "Cell \u001b[1;32mIn[3], line 2\u001b[0m\n\u001b[0;32m      1\u001b[0m b \u001b[38;5;241m=\u001b[39m \u001b[38;5;124m\"\u001b[39m\u001b[38;5;124mabc\u001b[39m\u001b[38;5;124m\"\u001b[39m\n\u001b[1;32m----> 2\u001b[0m a \u001b[38;5;241m=\u001b[39m b \u001b[38;5;241m/\u001b[39m \u001b[38;5;241m2\u001b[39m\n",
      "\u001b[1;31mTypeError\u001b[0m: unsupported operand type(s) for /: 'str' and 'int'"
     ]
    }
   ],
   "source": [
    "b = \"abc\"\n",
    "a = b / 2"
   ]
  },
  {
   "cell_type": "markdown",
   "id": "787f0d0e",
   "metadata": {},
   "source": [
    "#  handle exception\n",
    "\n",
    "try:\n",
    "\n",
    "except:\n",
    "\n",
    "raise\n"
   ]
  },
  {
   "cell_type": "code",
   "execution_count": 3,
   "id": "2c888510",
   "metadata": {},
   "outputs": [
    {
     "name": "stdout",
     "output_type": "stream",
     "text": [
      "Enter the numberator : 5\n",
      "Enter the denominator : 0\n",
      "inside raise\n",
      "Division by zero is not allowed\n",
      "this is finally block\n",
      "Enter the numberator : 5\n",
      "Enter the denominator : a\n",
      "the numberator and denominator should be integer type\n",
      "this is finally block\n",
      "Enter the numberator : 5\n",
      "Enter the denominator : 2\n",
      "2.5\n",
      "We are in end of the Program Thank You\n",
      "this is finally block\n"
     ]
    }
   ],
   "source": [
    "class ZeroDenominatorError(ZeroDivisionError):   \n",
    "    pass\n",
    "# in above class ZeroDivisionError is Parent to the ZeroDenominatorError\n",
    "# so in try and except which comes first in order will execute\n",
    "#  if except ZeroDivisionError come then it will be executed other wise the ZeroDenaminatorError will be executed\n",
    "\n",
    "while True:\n",
    "    try:\n",
    "        n = int(input(\"Enter the numberator : \"))\n",
    "        d = int(input(\"Enter the denominator : \"))\n",
    "        if d ==0:\n",
    "            print(\"inside raise\")\n",
    "            raise ZeroDenominatorError\n",
    "        print(n/d)\n",
    "        \n",
    "    except ValueError:\n",
    "        print(\"the numberator and denominator should be integer type\")\n",
    "    except ZeroDivisionError:\n",
    "        print(\"Division by zero is not allowed\")\n",
    "    except ZeroDenominatorError:\n",
    "        print(\"Denominator should not be zero!!\")\n",
    "    except:  # this default exception always should be last\n",
    "        print(\"Some exception has occured\")\n",
    "        \n",
    "    else:\n",
    "        print(\"We are in end of the Program Thank You\")\n",
    "        break\n",
    "    finally:\n",
    "        print(\"this is finally block\")"
   ]
  },
  {
   "cell_type": "code",
   "execution_count": 4,
   "id": "dd19f5c2",
   "metadata": {},
   "outputs": [],
   "source": [
    "# raise\n",
    "# we are able to raise our own exception using the key word raise\n",
    "# it is used to write our own exception"
   ]
  },
  {
   "cell_type": "code",
   "execution_count": 5,
   "id": "927e2151",
   "metadata": {},
   "outputs": [],
   "source": [
    "# there is a \"else\" keyword in the try except functionality\n",
    "#  if no error or exception occurs while the try block is executed then else part will be executed\n",
    "#  if error occurs then else block won't be executed"
   ]
  },
  {
   "cell_type": "code",
   "execution_count": 6,
   "id": "656b9a23",
   "metadata": {},
   "outputs": [],
   "source": [
    "# there is another concept called \"finally\"\n",
    "# this block will execute whatever happens\n",
    "# try  ===>  except  ===>  else  ===> finally\n",
    "# try  ===>  except  ===>  finally"
   ]
  },
  {
   "cell_type": "code",
   "execution_count": null,
   "id": "874fb416",
   "metadata": {},
   "outputs": [],
   "source": []
  }
 ],
 "metadata": {
  "kernelspec": {
   "display_name": "Python 3 (ipykernel)",
   "language": "python",
   "name": "python3"
  },
  "language_info": {
   "codemirror_mode": {
    "name": "ipython",
    "version": 3
   },
   "file_extension": ".py",
   "mimetype": "text/x-python",
   "name": "python",
   "nbconvert_exporter": "python",
   "pygments_lexer": "ipython3",
   "version": "3.11.4"
  }
 },
 "nbformat": 4,
 "nbformat_minor": 5
}
