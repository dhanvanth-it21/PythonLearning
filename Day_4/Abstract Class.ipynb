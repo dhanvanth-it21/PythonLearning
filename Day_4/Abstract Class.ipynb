{
 "cells": [
  {
   "cell_type": "markdown",
   "id": "e6d80815",
   "metadata": {},
   "source": [
    "# Abstrct class\n",
    "\n",
    "a Abstrct class contains abstrct methods i.e the methods are declared but not implemented\n",
    "\n",
    "who ever inherits the abstract class it thier responsibility to implemet the implemetation block of all abstract methods declared in abstract class\n",
    "\n",
    "In python it doesn't have abstract keyword instead they have a module name \"abc\" => abstract base class, it includes ABC as class and @abstractmethod decorator as functionality"
   ]
  },
  {
   "cell_type": "code",
   "execution_count": 1,
   "id": "2b5f4fd1",
   "metadata": {},
   "outputs": [],
   "source": [
    "from abc import ABC, abstractmethod"
   ]
  },
  {
   "cell_type": "code",
   "execution_count": 3,
   "id": "3fbd2b54",
   "metadata": {},
   "outputs": [
    {
     "name": "stdout",
     "output_type": "stream",
     "text": [
      "Inside demo class\n"
     ]
    }
   ],
   "source": [
    "#  if any method in the class is mentioned with the decorator @bstractmethod , then we can't create object for this class \n",
    "# else we can\n",
    "\n",
    "class demo(ABC):\n",
    "    \n",
    "    def __init__(self):\n",
    "        print(\"Inside demo class\")\n",
    "        \n",
    "    def start(self):\n",
    "        pass\n",
    "    \n",
    "    \n",
    "c = demo()"
   ]
  },
  {
   "cell_type": "code",
   "execution_count": 5,
   "id": "a2eaa4a3",
   "metadata": {},
   "outputs": [],
   "source": [
    "class demo1(ABC):              \n",
    "    \n",
    "    def __init__(self):\n",
    "        print(\"Inside demo1 class\")\n",
    "        \n",
    "    @abstractmethod\n",
    "    def start(self):\n",
    "        pass\n",
    "    \n",
    "    \n",
    "# demo1obj = demo1() ===========> #Can't instantiate abstract class demo1 with abstract method start"
   ]
  },
  {
   "cell_type": "markdown",
   "id": "f1fb3b8c",
   "metadata": {},
   "source": [
    "# Example with Automobile ===> Car,Bus   ===> Start, Stop, Drive"
   ]
  },
  {
   "cell_type": "code",
   "execution_count": 22,
   "id": "50387e64",
   "metadata": {},
   "outputs": [],
   "source": [
    "# here it is a Abstrct class with 3 abstrct methods\n",
    "class Automobile(ABC):\n",
    "    \n",
    "    def __init__(self):\n",
    "        print(\"Inside Automobile class\")\n",
    "    \n",
    "    @abstractmethod\n",
    "    def start(self):\n",
    "        pass\n",
    "    @abstractmethod\n",
    "    def stop(self):\n",
    "        pass\n",
    "    @abstractmethod\n",
    "    def drive(self):\n",
    "        pass\n",
    "    "
   ]
  },
  {
   "cell_type": "code",
   "execution_count": 23,
   "id": "06b39707",
   "metadata": {},
   "outputs": [
    {
     "name": "stdout",
     "output_type": "stream",
     "text": [
      "This car name is : Honda\n"
     ]
    }
   ],
   "source": [
    "#class inherits the abstrct class and it is manditory for this \n",
    "# class to implement the implementationpart , other wise it throws error\n",
    "\n",
    "\n",
    "class Car(Automobile):\n",
    "    def __init__(self,name):\n",
    "        self.name = name\n",
    "        print(f\"This car name is : {self.name}\")\n",
    "        \n",
    "        \n",
    "    def start(self):\n",
    "        pass\n",
    "    \n",
    "    def stop(self):\n",
    "        pass\n",
    "    \n",
    "    def drive(self):\n",
    "        pass\n",
    "    \n",
    "    \n",
    "# c2 = Car() ====> Inside Automobile class\n",
    "#                  (if __init__ method is not there in Car class, by inheritance it calls Automoble's __init__)\n",
    "\n",
    "c = Car(\"Honda\")"
   ]
  },
  {
   "cell_type": "code",
   "execution_count": 24,
   "id": "91318553",
   "metadata": {},
   "outputs": [
    {
     "name": "stdout",
     "output_type": "stream",
     "text": [
      "Inside Automobile class\n"
     ]
    }
   ],
   "source": [
    "class Bus(Automobile):\n",
    "    \n",
    "    def start(self):\n",
    "        pass\n",
    "    \n",
    "    def stop(self):\n",
    "        pass\n",
    "    \n",
    "    def drive(self):\n",
    "        pass\n",
    "    \n",
    "b = Bus() #====> it calls its parent's __init__"
   ]
  },
  {
   "cell_type": "code",
   "execution_count": 25,
   "id": "c54bd611",
   "metadata": {},
   "outputs": [
    {
     "data": {
      "text/plain": [
       "[__main__.Bus, __main__.Automobile, abc.ABC, object]"
      ]
     },
     "execution_count": 25,
     "metadata": {},
     "output_type": "execute_result"
    }
   ],
   "source": [
    "Bus.mro()"
   ]
  },
  {
   "cell_type": "code",
   "execution_count": 26,
   "id": "a316acee",
   "metadata": {},
   "outputs": [
    {
     "data": {
      "text/plain": [
       "[__main__.Car, __main__.Automobile, abc.ABC, object]"
      ]
     },
     "execution_count": 26,
     "metadata": {},
     "output_type": "execute_result"
    }
   ],
   "source": [
    "Car.mro()"
   ]
  },
  {
   "cell_type": "code",
   "execution_count": 27,
   "id": "f4f22c9f",
   "metadata": {},
   "outputs": [],
   "source": [
    "# abstrct method can have implementation in abstract class"
   ]
  },
  {
   "cell_type": "code",
   "execution_count": 30,
   "id": "4e4364b1",
   "metadata": {},
   "outputs": [
    {
     "name": "stdout",
     "output_type": "stream",
     "text": [
      "Name if this is : Samsung\n",
      "Inside the B class\n",
      "Inside the A Class\n"
     ]
    }
   ],
   "source": [
    "class A(ABC):\n",
    "    def __init__(self,name):\n",
    "        self.name = name\n",
    "        print(f\"Name if this is : {self.name}\")\n",
    "    @abstractmethod\n",
    "    def APrint(self):\n",
    "        print(\"Inside the A Class\")\n",
    "        \n",
    "class B(A):\n",
    "    def APrint(self):\n",
    "        print(\"Inside the B class\")\n",
    "        super().APrint()\n",
    "        \n",
    "b = B(\"Samsung\")\n",
    "b.APrint()"
   ]
  },
  {
   "cell_type": "code",
   "execution_count": null,
   "id": "550ef4a7",
   "metadata": {},
   "outputs": [],
   "source": []
  }
 ],
 "metadata": {
  "kernelspec": {
   "display_name": "Python 3 (ipykernel)",
   "language": "python",
   "name": "python3"
  },
  "language_info": {
   "codemirror_mode": {
    "name": "ipython",
    "version": 3
   },
   "file_extension": ".py",
   "mimetype": "text/x-python",
   "name": "python",
   "nbconvert_exporter": "python",
   "pygments_lexer": "ipython3",
   "version": "3.11.4"
  }
 },
 "nbformat": 4,
 "nbformat_minor": 5
}
