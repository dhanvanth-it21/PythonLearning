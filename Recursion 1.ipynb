{
 "cells": [
  {
   "cell_type": "code",
   "execution_count": 10,
   "id": "c5964118",
   "metadata": {},
   "outputs": [
    {
     "name": "stdout",
     "output_type": "stream",
     "text": [
      "120\n",
      "3628800\n",
      "1\n",
      "1\n",
      "Enter the number for Factorial : 6\n",
      "720\n"
     ]
    }
   ],
   "source": [
    "# Recursion fucntion for factorial\n",
    "def fact(n):\n",
    "    if n <= 1:\n",
    "        return 1;\n",
    "    return n*fact(n-1)\n",
    "\n",
    "\n",
    "print(fact(5))\n",
    "print(fact(10))\n",
    "print(fact(0))\n",
    "print(fact(1))\n",
    "n = int(input(\"Enter the number for Factorial : \"))\n",
    "print(fact(n))"
   ]
  },
  {
   "cell_type": "code",
   "execution_count": 12,
   "id": "9f16aa55",
   "metadata": {},
   "outputs": [
    {
     "name": "stdout",
     "output_type": "stream",
     "text": [
      "15\n",
      "55\n",
      "0\n",
      "Enter the number for the sum of n natural numbers : 100\n",
      "5050\n"
     ]
    }
   ],
   "source": [
    "# Recursion sum of n natural number\n",
    "def sum_n(n):\n",
    "    if n < 1:\n",
    "        return 0\n",
    "    return n + sum_n(n-1)\n",
    "\n",
    "print(sum_n(5))\n",
    "print(sum_n(10))\n",
    "print(sum_n(0))\n",
    "n = int(input(\"Enter the number for the sum of n natural numbers : \"))\n",
    "print(sum_n(n))"
   ]
  },
  {
   "cell_type": "code",
   "execution_count": 18,
   "id": "0d0a13ae",
   "metadata": {},
   "outputs": [
    {
     "name": "stdout",
     "output_type": "stream",
     "text": [
      "25\n",
      "32\n",
      "1000\n",
      "Enter the number : 5\n",
      "Enter the pow to calulate wiht 5 : 3\n",
      "125\n"
     ]
    }
   ],
   "source": [
    "# Recursion to find the power of a number\n",
    "def pow_n(x , n):\n",
    "    if( n <= 0):\n",
    "        return 1;\n",
    "    return x * pow_n(x , n-1)\n",
    "\n",
    "print(pow_n(5,2))\n",
    "print(pow_n(2,5))\n",
    "print(pow_n(10,3))\n",
    "x = int(input(\"Enter the number : \"))\n",
    "n = int(input(f\"Enter the pow to calulate wiht {x} : \"))\n",
    "print(pow_n(x,n))"
   ]
  },
  {
   "cell_type": "code",
   "execution_count": 21,
   "id": "62af6dd7",
   "metadata": {},
   "outputs": [
    {
     "name": "stdout",
     "output_type": "stream",
     "text": [
      "1\n",
      "2\n",
      "3\n",
      "4\n",
      "5\n",
      "6\n",
      "7\n",
      "8\n",
      "9\n",
      "10\n"
     ]
    }
   ],
   "source": [
    "# Recursion print first n natural number\n",
    "def print_n(n):\n",
    "    if n <= 1:\n",
    "        print(n)\n",
    "        return\n",
    "    print_n(n-1)\n",
    "    print(n)\n",
    "    \n",
    "    \n",
    "print_n(10)"
   ]
  },
  {
   "cell_type": "code",
   "execution_count": 29,
   "id": "a6b43b52",
   "metadata": {},
   "outputs": [
    {
     "name": "stdout",
     "output_type": "stream",
     "text": [
      "5\n",
      "3\n"
     ]
    }
   ],
   "source": [
    "# Recursion to find the Fibbinoic series of the number\n",
    "def fibb(n):\n",
    "    if n == 0:\n",
    "        return 0\n",
    "    if n == 1:\n",
    "        return 1\n",
    "    return fibb(n-1) + fibb(n-2)\n",
    "\n",
    "print(fibb(5))\n",
    "print(fibb(4))"
   ]
  },
  {
   "cell_type": "code",
   "execution_count": 32,
   "id": "e334d9d1",
   "metadata": {},
   "outputs": [
    {
     "name": "stdout",
     "output_type": "stream",
     "text": [
      "True\n",
      "False\n",
      "True\n",
      "True\n"
     ]
    }
   ],
   "source": [
    "# Recursion to check wether the gvien list is sorted or not\n",
    "def checkListSorted(lis):\n",
    "    if len(lis) <= 1:\n",
    "        return True;\n",
    "    if lis[0] > lis[1]:\n",
    "        return False\n",
    "    return checkListSorted(lis[1:])\n",
    "\n",
    "lis = [1,2,3,4,5,6,7,8,9]\n",
    "print(checkListSorted(lis))\n",
    "lis = [1,2,3,6,5,4]\n",
    "print(checkListSorted(lis))\n",
    "lis = []\n",
    "print(checkListSorted(lis))\n",
    "lis = [5]\n",
    "print(checkListSorted(lis))"
   ]
  },
  {
   "cell_type": "code",
   "execution_count": 41,
   "id": "80b23a1f",
   "metadata": {},
   "outputs": [
    {
     "name": "stdout",
     "output_type": "stream",
     "text": [
      "True\n",
      "False\n",
      "True\n",
      "True\n"
     ]
    }
   ],
   "source": [
    "# Recursion to check the list is sorted in better\n",
    "def checkListSortedBetter(lis, si):\n",
    "    if si >= len(lis)-1:\n",
    "        return True\n",
    "    if lis[si] > lis[si+1]:\n",
    "        return False\n",
    "    return checkListSortedBetter(lis, si+1)\n",
    "\n",
    "lis = [1,2,3,4,5,6,7,8,9]\n",
    "print(checkListSortedBetter(lis,0))\n",
    "lis = [1,2,3,6,5,4]\n",
    "print(checkListSortedBetter(lis,0))\n",
    "lis = []\n",
    "print(checkListSortedBetter(lis,0))\n",
    "lis = [5]\n",
    "print(checkListSortedBetter(lis,0))"
   ]
  },
  {
   "cell_type": "code",
   "execution_count": 33,
   "id": "5472402a",
   "metadata": {},
   "outputs": [
    {
     "name": "stdout",
     "output_type": "stream",
     "text": [
      "45\n",
      "21\n",
      "0\n",
      "5\n"
     ]
    }
   ],
   "source": [
    "# Recursion for sum of array\n",
    "def sumArray(lis):\n",
    "    if len(lis) < 1 :\n",
    "        return 0\n",
    "    return lis[0] + sumArray(lis[1:])\n",
    "\n",
    "lis = [1,2,3,4,5,6,7,8,9]\n",
    "print(sumArray(lis))\n",
    "lis = [1,2,3,6,5,4]\n",
    "print(sumArray(lis))\n",
    "lis = []\n",
    "print(sumArray(lis))\n",
    "lis = [5]\n",
    "print(sumArray(lis))"
   ]
  },
  {
   "cell_type": "code",
   "execution_count": 36,
   "id": "ec243fd3",
   "metadata": {},
   "outputs": [
    {
     "name": "stdout",
     "output_type": "stream",
     "text": [
      "True\n",
      "True\n",
      "False\n",
      "False\n"
     ]
    }
   ],
   "source": [
    "# Recursion to check a number is in the array ot not\n",
    "def checkNumber(lis, n):\n",
    "    if len(lis) < 1:\n",
    "        return False\n",
    "    if lis[0] == n:\n",
    "        return True\n",
    "    return checkNumber(lis[1:],n)\n",
    "\n",
    "lis = [1,2,3,4,5,6,7,8,9]\n",
    "print(checkNumber(lis,2))\n",
    "lis = [1,2,3,6,5,4]\n",
    "print(checkNumber(lis,5))\n",
    "lis = []\n",
    "print(checkNumber(lis,0))\n",
    "lis = [5]\n",
    "print(checkNumber(lis,4))"
   ]
  },
  {
   "cell_type": "code",
   "execution_count": 45,
   "id": "904377f7",
   "metadata": {},
   "outputs": [
    {
     "name": "stdout",
     "output_type": "stream",
     "text": [
      "1\n",
      "4\n",
      "-1\n",
      "-1\n"
     ]
    }
   ],
   "source": [
    "# Recusrion for the first index of number \n",
    "def firstIndexOfNumber(lis, n):\n",
    "    if len(lis) <= 0:\n",
    "        return -1\n",
    "    if lis[0] == n:\n",
    "        return 0;\n",
    "    res = firstIndexOfNumber(lis[1:],n)\n",
    "    return -1 if res ==  -1 else res+1\n",
    "\n",
    "lis = [1,2,3,4,5,6,4,7,2,8,9]\n",
    "print(firstIndexOfNumber(lis,2))\n",
    "lis = [1,2,3,6,5,4]\n",
    "print(firstIndexOfNumber(lis,5))\n",
    "lis = []\n",
    "print(firstIndexOfNumber(lis,0))\n",
    "lis = [5]\n",
    "print(firstIndexOfNumber(lis,4))"
   ]
  },
  {
   "cell_type": "code",
   "execution_count": 46,
   "id": "dde2c410",
   "metadata": {},
   "outputs": [
    {
     "name": "stdout",
     "output_type": "stream",
     "text": [
      "1\n",
      "4\n",
      "-1\n",
      "-1\n"
     ]
    }
   ],
   "source": [
    "# Recursion for the first index of  number in better\n",
    "def firstIndexOfNumberBetter(lis, n, si):\n",
    "    if(si > len(lis)-1):\n",
    "        return -1\n",
    "    if lis[si] == n:\n",
    "        return si\n",
    "    return firstIndexOfNumberBetter(lis, n , si+1)\n",
    " \n",
    "lis = [1,2,3,4,5,6,4,7,2,8,9]\n",
    "print(firstIndexOfNumberBetter(lis,2,0))\n",
    "lis = [1,2,3,6,5,4]\n",
    "print(firstIndexOfNumberBetter(lis,5,0))\n",
    "lis = []\n",
    "print(firstIndexOfNumberBetter(lis,0,0))\n",
    "lis = [5]\n",
    "print(firstIndexOfNumberBetter(lis,4,0))"
   ]
  },
  {
   "cell_type": "code",
   "execution_count": 56,
   "id": "66864102",
   "metadata": {},
   "outputs": [
    {
     "name": "stdout",
     "output_type": "stream",
     "text": [
      "8\n",
      "4\n",
      "-1\n",
      "-1\n",
      "\n",
      "8\n",
      "4\n",
      "-1\n",
      "-1\n"
     ]
    }
   ],
   "source": [
    "# Recursion to find the last index occurence of a nunmber\n",
    "def lastIndexOfNumber(lis,n,si):\n",
    "    if si < 0:\n",
    "        return -1\n",
    "    if lis[si] == n:\n",
    "        return si\n",
    "    return lastIndexOfNumber(lis,n,si-1)\n",
    "\n",
    "def lastIndexOfNumber2(lis,n):\n",
    "    if len(lis) <= 0:\n",
    "        return -1\n",
    "    if lis[len(lis)-1] == n:\n",
    "        return len(lis)-1\n",
    "    return lastIndexOfNumber2(lis[:len(lis)-1],n)\n",
    "    \n",
    "lis = [1,2,3,4,5,6,4,7,2,8,9]\n",
    "print(lastIndexOfNumber(lis,2,len(lis)-1))\n",
    "lis = [1,2,3,6,5,4]\n",
    "print(lastIndexOfNumber(lis,5,len(lis)-1))\n",
    "lis = []\n",
    "print(lastIndexOfNumber(lis,0,len(lis)-1))\n",
    "lis = [5]\n",
    "print(lastIndexOfNumber(lis,4,len(lis)-1))\n",
    "print()\n",
    "lis = [1,2,3,4,5,6,4,7,2,8,9]\n",
    "print(lastIndexOfNumber2(lis,2))\n",
    "lis = [1,2,3,6,5,4]\n",
    "print(lastIndexOfNumber2(lis,5))\n",
    "lis = []\n",
    "print(lastIndexOfNumber2(lis,0))\n",
    "lis = [5]\n",
    "print(lastIndexOfNumber2(lis,4))"
   ]
  },
  {
   "cell_type": "code",
   "execution_count": null,
   "id": "41ec93c3",
   "metadata": {},
   "outputs": [],
   "source": []
  }
 ],
 "metadata": {
  "kernelspec": {
   "display_name": "Python 3 (ipykernel)",
   "language": "python",
   "name": "python3"
  },
  "language_info": {
   "codemirror_mode": {
    "name": "ipython",
    "version": 3
   },
   "file_extension": ".py",
   "mimetype": "text/x-python",
   "name": "python",
   "nbconvert_exporter": "python",
   "pygments_lexer": "ipython3",
   "version": "3.11.4"
  }
 },
 "nbformat": 4,
 "nbformat_minor": 5
}
