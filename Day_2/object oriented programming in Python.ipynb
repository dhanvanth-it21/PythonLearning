{
 "cells": [
  {
   "cell_type": "markdown",
   "id": "00d62484",
   "metadata": {},
   "source": [
    "## OOPS"
   ]
  },
  {
   "cell_type": "code",
   "execution_count": 1,
   "id": "fc12ef74",
   "metadata": {},
   "outputs": [],
   "source": [
    "# creating a student class\n",
    "class Student:\n",
    "    pass   # we need to write this pass otherwise the code won't work becasue a class must contain something"
   ]
  },
  {
   "cell_type": "code",
   "execution_count": 2,
   "id": "edd0310a",
   "metadata": {},
   "outputs": [],
   "source": [
    "s1 = Student()  #way of creating an object, we are able to create more than one object to a class"
   ]
  },
  {
   "cell_type": "code",
   "execution_count": 3,
   "id": "1167454d",
   "metadata": {},
   "outputs": [
    {
     "name": "stdout",
     "output_type": "stream",
     "text": [
      "<__main__.Student object at 0x00000261DA03D210>\n",
      "<class '__main__.Student'>\n"
     ]
    }
   ],
   "source": [
    "print(s1)\n",
    "print(type(s1))"
   ]
  },
  {
   "cell_type": "markdown",
   "id": "5b258bce",
   "metadata": {},
   "source": [
    "# way to add attributes\n",
    "   objectName.__dict__\n",
    "   \n",
    "   hasattr(objectName,\"attributeName\")\n",
    "   \n",
    "   getattr(objectName,\"attributeName\")   or getattr(objectName,\"attributeName\",\"defaultValue\")\n",
    "   \n",
    "   delattr(objectName,\"attributeName\")\n",
    "   \n",
    "   objectName.Attribute = Value"
   ]
  },
  {
   "cell_type": "code",
   "execution_count": 4,
   "id": "1924b82b",
   "metadata": {},
   "outputs": [],
   "source": [
    "# it can be added individually for each obeject created\n",
    "s1.name = \"God\"\n",
    "\n",
    "s2 = Student()\n",
    "s2.name = \"Dhanvanth\"\n",
    "s2.rollNumber = 126\n",
    "\n",
    "s3 = Student()\n",
    "s3.rollNumber = 223"
   ]
  },
  {
   "cell_type": "code",
   "execution_count": 6,
   "id": "5e930450",
   "metadata": {},
   "outputs": [
    {
     "name": "stdout",
     "output_type": "stream",
     "text": [
      "{'name': 'God'}\n",
      "{'name': 'Dhanvanth', 'rollNumber': 126}\n",
      "{'rollNumber': 223}\n"
     ]
    }
   ],
   "source": [
    "# using \"obj.__dict__\" we are able to use all the attributes available for a object\n",
    "print(s1.__dict__)\n",
    "print(s2.__dict__)\n",
    "print(s3.__dict__)"
   ]
  },
  {
   "cell_type": "code",
   "execution_count": 7,
   "id": "15978549",
   "metadata": {},
   "outputs": [],
   "source": [
    "# General format\n",
    "#     obj.key = value\n",
    "#     that key value pair will be added to its dictinary"
   ]
  },
  {
   "cell_type": "code",
   "execution_count": 10,
   "id": "dd5cb998",
   "metadata": {},
   "outputs": [
    {
     "data": {
      "text/plain": [
       "True"
      ]
     },
     "execution_count": 10,
     "metadata": {},
     "output_type": "execute_result"
    }
   ],
   "source": [
    "# hasattr(obj,\"attr\")      => to whether the given attr is present inside the object or not return boolean value\n",
    "hasattr(s1, \"name\")"
   ]
  },
  {
   "cell_type": "code",
   "execution_count": 11,
   "id": "45587cd3",
   "metadata": {},
   "outputs": [
    {
     "data": {
      "text/plain": [
       "False"
      ]
     },
     "execution_count": 11,
     "metadata": {},
     "output_type": "execute_result"
    }
   ],
   "source": [
    "hasattr(s2, \"Age\")"
   ]
  },
  {
   "cell_type": "code",
   "execution_count": 12,
   "id": "18b771be",
   "metadata": {},
   "outputs": [
    {
     "data": {
      "text/plain": [
       "'God'"
      ]
     },
     "execution_count": 12,
     "metadata": {},
     "output_type": "execute_result"
    }
   ],
   "source": [
    "# getattr(obj, \"attr\")    => this wil get the value of that attr given for that particular object\n",
    "getattr(s1, \"name\")"
   ]
  },
  {
   "cell_type": "code",
   "execution_count": 14,
   "id": "cab87e6c",
   "metadata": {},
   "outputs": [
    {
     "data": {
      "text/plain": [
       "126"
      ]
     },
     "execution_count": 14,
     "metadata": {},
     "output_type": "execute_result"
    }
   ],
   "source": [
    "getattr(s2, \"rollNumber\")"
   ]
  },
  {
   "cell_type": "code",
   "execution_count": 20,
   "id": "54f4900b",
   "metadata": {},
   "outputs": [],
   "source": [
    "# if we try to get attr value for  object which doesn't exist will give error\n",
    "#         getattr(s2,\"Age\")     => 'Student' object has no attribute 'Age'"
   ]
  },
  {
   "cell_type": "code",
   "execution_count": 17,
   "id": "e3caabd5",
   "metadata": {},
   "outputs": [
    {
     "data": {
      "text/plain": [
       "21"
      ]
     },
     "execution_count": 17,
     "metadata": {},
     "output_type": "execute_result"
    }
   ],
   "source": [
    "# this can be avoided by adding default value for it\n",
    "#  getattr(obj, \"attr\", \"default_Value\")\n",
    "getattr(s2,\"Age\",21)"
   ]
  },
  {
   "cell_type": "code",
   "execution_count": 18,
   "id": "efe4cb9f",
   "metadata": {},
   "outputs": [
    {
     "data": {
      "text/plain": [
       "{'name': 'Dhanvanth', 'rollNumber': 126}"
      ]
     },
     "execution_count": 18,
     "metadata": {},
     "output_type": "execute_result"
    }
   ],
   "source": [
    "s2.__dict__"
   ]
  },
  {
   "cell_type": "code",
   "execution_count": 19,
   "id": "ed7c28bb",
   "metadata": {},
   "outputs": [
    {
     "name": "stdout",
     "output_type": "stream",
     "text": [
      "{'name': 'Dhanvanth'}\n"
     ]
    }
   ],
   "source": [
    "# we are alo able to delete the attribute for an object\n",
    "#      delattr(obj, \"attr\")\n",
    "delattr(s2,\"rollNumber\")\n",
    "print(s2.__dict__)"
   ]
  },
  {
   "cell_type": "code",
   "execution_count": 22,
   "id": "a2b1697e",
   "metadata": {},
   "outputs": [
    {
     "name": "stdout",
     "output_type": "stream",
     "text": [
      "{'name': 'God2'}\n"
     ]
    }
   ],
   "source": [
    "# we also have setattr(obj,\"attr\",value) to update the attributes value of an object\n",
    "setattr(s2,\"name\",\"God2\")\n",
    "print(s2.__dict__)"
   ]
  },
  {
   "cell_type": "code",
   "execution_count": 25,
   "id": "da69d99b",
   "metadata": {},
   "outputs": [
    {
     "name": "stdout",
     "output_type": "stream",
     "text": [
      "God2\n",
      "God\n"
     ]
    }
   ],
   "source": [
    "# these are gerneral function used for an object of a class\n",
    "# but not widely used we can directly access the attribute of a class by operator \".\"\n",
    "# \".\" it is able to access the properties and method of an object\n",
    "print(s2.name)\n",
    "print(s1.name)"
   ]
  },
  {
   "cell_type": "markdown",
   "id": "2b430deb",
   "metadata": {},
   "source": [
    "# Class attribute and Instance Attribute"
   ]
  },
  {
   "cell_type": "code",
   "execution_count": 29,
   "id": "a27f5c9f",
   "metadata": {},
   "outputs": [
    {
     "name": "stdout",
     "output_type": "stream",
     "text": [
      "{}\n",
      "{}\n",
      "80\n",
      "100\n"
     ]
    }
   ],
   "source": [
    "# class attribute are commaon to all the object created to it\n",
    "# intstance attributes are only for that particular object\n",
    "class Demo:\n",
    "    d = 100\n",
    "objdemo1 = Demo()\n",
    "print(objdemo1.__dict__)\n",
    "objdemo2 = Demo()\n",
    "print(objdemo2.__dict__)\n",
    "objdemo1.d = 80\n",
    "print(objdemo1.d) #instance attribute\n",
    "print(objdemo2.d) # class attribute"
   ]
  },
  {
   "cell_type": "code",
   "execution_count": null,
   "id": "a8dc2ca6",
   "metadata": {},
   "outputs": [],
   "source": []
  }
 ],
 "metadata": {
  "kernelspec": {
   "display_name": "Python 3 (ipykernel)",
   "language": "python",
   "name": "python3"
  },
  "language_info": {
   "codemirror_mode": {
    "name": "ipython",
    "version": 3
   },
   "file_extension": ".py",
   "mimetype": "text/x-python",
   "name": "python",
   "nbconvert_exporter": "python",
   "pygments_lexer": "ipython3",
   "version": "3.11.4"
  }
 },
 "nbformat": 4,
 "nbformat_minor": 5
}
