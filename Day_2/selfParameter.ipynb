{
 "cells": [
  {
   "cell_type": "markdown",
   "id": "714ea66d",
   "metadata": {},
   "source": [
    "# Methods and Variables and init methods and classmethod\n",
    "\n",
    "why self as parameter\n",
    "\n",
    "instance variable\n",
    "\n",
    "instance method\n",
    "\n",
    "class varialbe\n",
    "\n",
    "how a function call is been interreptted\n",
    "\n",
    "@staticmethod\n",
    "\n",
    "init method\n",
    "\n",
    "@classmethod\n",
    "\n",
    "private Variable"
   ]
  },
  {
   "cell_type": "code",
   "execution_count": 22,
   "id": "629eb45a",
   "metadata": {},
   "outputs": [],
   "source": [
    "from datetime import date"
   ]
  },
  {
   "cell_type": "code",
   "execution_count": 23,
   "id": "8696c8b4",
   "metadata": {},
   "outputs": [],
   "source": [
    "class Student:\n",
    "    \n",
    "    dept = \"IT\"                    #class variable\n",
    "    \n",
    "    \n",
    "    def studentDetails(self):      # self  => to refer the current  object\n",
    "        self.name = \"Dhanavath\"    #instance variable\n",
    "        self.age = 21              #instance variable\n",
    "        print(f\"Name : {self.name}\")\n",
    "        print(f\"Age : {self.age}\")\n",
    "        print(f\"Dept : {self.dept}\" + \" called using instance\")\n",
    "        print(f\"Dept : {Student.dept}\" + \" called using class\")\n",
    "        pass\n",
    "    \n",
    "# here we passed obj as paramenter hence it is an instance method\n",
    "\n",
    "#if i want to call a function commonly which doesn't have any realption with object i.e common to the Student Object\n",
    "# we usedecorator ======>    @staticmethod\n",
    "\n",
    "    @staticmethod\n",
    "    def welcomeAddress():\n",
    "        print(\"Welcome to the school of Python\")\n",
    "        \n"
   ]
  },
  {
   "cell_type": "code",
   "execution_count": 24,
   "id": "9d6d4162",
   "metadata": {},
   "outputs": [],
   "source": [
    "s1 = Student()"
   ]
  },
  {
   "cell_type": "code",
   "execution_count": 25,
   "id": "fae23129",
   "metadata": {},
   "outputs": [],
   "source": [
    "# s1.studentDetails()    => Student.studentDetails() takes 0 positional arguments but 1 was given\n",
    "\n",
    "# s1.studentDetails() => is interpreted as => Student.studentDetails(s1)\n",
    "\n",
    "# whenever an object calls a function it is interpretted as \n",
    "#                     className.functionName(objectName)\n",
    "#  here the object is passed as paramenter into the function of that class hence it expects a single argument in it i.e object itself\n",
    "# so we use \"self\" to refer the object"
   ]
  },
  {
   "cell_type": "code",
   "execution_count": 26,
   "id": "0946ed2c",
   "metadata": {},
   "outputs": [
    {
     "name": "stdout",
     "output_type": "stream",
     "text": [
      "Name : Dhanavath\n",
      "Age : 21\n",
      "Dept : IT called using instance\n",
      "Dept : IT called using class\n"
     ]
    }
   ],
   "source": [
    "s1.studentDetails()"
   ]
  },
  {
   "cell_type": "code",
   "execution_count": 27,
   "id": "0699da0e",
   "metadata": {},
   "outputs": [
    {
     "name": "stdout",
     "output_type": "stream",
     "text": [
      "Name : Dhanavath\n",
      "Age : 21\n",
      "Dept : IT called using instance\n",
      "Dept : IT called using class\n"
     ]
    }
   ],
   "source": [
    "Student.studentDetails(s1)"
   ]
  },
  {
   "cell_type": "code",
   "execution_count": 28,
   "id": "efff4169",
   "metadata": {},
   "outputs": [
    {
     "data": {
      "text/plain": [
       "{'name': 'Dhanavath', 'age': 21}"
      ]
     },
     "execution_count": 28,
     "metadata": {},
     "output_type": "execute_result"
    }
   ],
   "source": [
    "s1.__dict__"
   ]
  },
  {
   "cell_type": "code",
   "execution_count": 29,
   "id": "df643817",
   "metadata": {},
   "outputs": [
    {
     "name": "stdout",
     "output_type": "stream",
     "text": [
      "Welcome to the school of Python\n"
     ]
    }
   ],
   "source": [
    "# by usin the static method decorator \"@staticmethod\"   it makes the function to be common for all the objects\n",
    "# its stop the binding of the function to a particular objects\n",
    "s1.welcomeAddress()"
   ]
  },
  {
   "cell_type": "code",
   "execution_count": 30,
   "id": "9eb2ae8b",
   "metadata": {},
   "outputs": [
    {
     "name": "stdout",
     "output_type": "stream",
     "text": [
      "Welcome to the school of Python\n"
     ]
    }
   ],
   "source": [
    "Student.welcomeAddress()"
   ]
  },
  {
   "cell_type": "markdown",
   "id": "28c9370c",
   "metadata": {},
   "source": [
    "# init method and class method"
   ]
  },
  {
   "cell_type": "code",
   "execution_count": 35,
   "id": "a38bc95b",
   "metadata": {},
   "outputs": [
    {
     "name": "stdout",
     "output_type": "stream",
     "text": [
      "Name : Proff\n",
      "Age : 30\n",
      "Pass : 80\n",
      "Dept : IT\n",
      "{'name': 'Proff', 'age': 30, '_Teacher__pass': 80}\n",
      "\n",
      "Name : Princi\n",
      "Age : 50\n",
      "Pass : 80\n",
      "Dept : IT\n",
      "{'name': 'Princi', 'age': 50, '_Teacher__pass': 80}\n",
      "\n",
      "Name : Dhanvanth\n",
      "Age : 21\n",
      "Pass : 80\n",
      "Dept : IT\n",
      "{'name': 'Dhanvanth', 'age': 21, '_Teacher__pass': 80}\n"
     ]
    }
   ],
   "source": [
    "# as we have constructor in java same we have init method here\n",
    "# we pass the paramenters and initialis the object when the oject is created same as in the java constructor\n",
    "class Teacher:\n",
    "    \n",
    "    __dept = \"IT\"\n",
    "    \n",
    "    def __init__(self,name,age):\n",
    "        self.name = name\n",
    "        self.age = age\n",
    "        self.__pass = 80  #======> private varible\n",
    "        \n",
    "        \n",
    "    def printDetails(self):\n",
    "        print(f\"Name : {self.name}\")\n",
    "        print(f\"Age : {self.age}\")\n",
    "        print(f\"Pass : {self.__pass}\")  #accessing private variable inside the class\n",
    "        print(f\"Dept : {self.__dept}\")\n",
    "        \n",
    "        \n",
    "# a factory method which will return the object of a class i.e @classmethod\n",
    "# here the @classmethod decorator is used and we pass the class name as parameter to the\n",
    "# -function to tell it to create a object for that provided class\n",
    "\n",
    "    @classmethod\n",
    "    def fromBirthYear(cls,name,year):\n",
    "        return cls(name,date.today().year - year)\n",
    "    \n",
    "\n",
    "    \n",
    "# private variable which is used to access inside the class only\n",
    "# doubleUnderScore infornt of any variable makes it to be a private variable\n",
    "        \n",
    "t1 = Teacher(\"Proff\", 30)\n",
    "t2 = Teacher(\"Princi\", 50)\n",
    "\n",
    "t1.printDetails()\n",
    "print(t1.__dict__)\n",
    "print()\n",
    "t2.printDetails()\n",
    "print(t2.__dict__)\n",
    "print()\n",
    "t3 = Teacher.fromBirthYear(\"Dhanvanth\",2003)\n",
    "t3.printDetails()\n",
    "print(t3.__dict__)"
   ]
  },
  {
   "cell_type": "code",
   "execution_count": 32,
   "id": "97e4084b",
   "metadata": {},
   "outputs": [
    {
     "name": "stdout",
     "output_type": "stream",
     "text": [
      "30\n",
      "80\n"
     ]
    }
   ],
   "source": [
    "print(t1.age)\n",
    "print(t1._Teacher__pass)    #this code should not be used because it reveals the private variables value outside the class"
   ]
  },
  {
   "cell_type": "code",
   "execution_count": 44,
   "id": "8c8b16d9",
   "metadata": {
    "scrolled": true
   },
   "outputs": [
    {
     "name": "stdout",
     "output_type": "stream",
     "text": [
      "IT\n",
      "{'__module__': '__main__', '_Teacher__dept': 'IT', '__init__': <function Teacher.__init__ at 0x000001EB6BC78040>, 'printDetails': <function Teacher.printDetails at 0x000001EB6BC78D60>, 'fromBirthYear': <classmethod(<function Teacher.fromBirthYear at 0x000001EB6BC79120>)>, '__dict__': <attribute '__dict__' of 'Teacher' objects>, '__weakref__': <attribute '__weakref__' of 'Teacher' objects>, '__doc__': None}\n",
      "None\n"
     ]
    }
   ],
   "source": [
    "# in same way we are able to make the class variable aslo private class variable\n",
    "print(Teacher._Teacher__dept)\n",
    "# class name with the __dict__ will provide all the info it contains\n",
    "print(Teacher.__dict__)\n"
   ]
  },
  {
   "cell_type": "code",
   "execution_count": null,
   "id": "d243b0a7",
   "metadata": {},
   "outputs": [],
   "source": []
  }
 ],
 "metadata": {
  "kernelspec": {
   "display_name": "Python 3 (ipykernel)",
   "language": "python",
   "name": "python3"
  },
  "language_info": {
   "codemirror_mode": {
    "name": "ipython",
    "version": 3
   },
   "file_extension": ".py",
   "mimetype": "text/x-python",
   "name": "python",
   "nbconvert_exporter": "python",
   "pygments_lexer": "ipython3",
   "version": "3.11.4"
  }
 },
 "nbformat": 4,
 "nbformat_minor": 5
}
