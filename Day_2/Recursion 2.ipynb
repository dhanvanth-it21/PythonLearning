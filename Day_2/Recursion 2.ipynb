{
 "cells": [
  {
   "cell_type": "markdown",
   "id": "d1889164",
   "metadata": {},
   "source": [
    "# Recursion to replace a character in a String with other character"
   ]
  },
  {
   "cell_type": "code",
   "execution_count": 15,
   "id": "513c1c6e",
   "metadata": {},
   "outputs": [
    {
     "name": "stdout",
     "output_type": "stream",
     "text": [
      "jdbbvbbndibb\n",
      "bbbbbbbbbbb\n",
      "dhbnvbnth\n"
     ]
    }
   ],
   "source": [
    "def replaceAB(str,repa,repb):\n",
    "    if len(str) == 0:\n",
    "        return \"\"\n",
    "    if str[0] == repa:\n",
    "        return repb+replaceAB(str[1:],repa,repb)\n",
    "    return str[0] + replaceAB(str[1:],repa,repb)\n",
    "\n",
    "str = \"jdabvabndiab\"\n",
    "print(replaceAB(str,'a','b'))\n",
    "str = \"aaaaaaaaaaa\"\n",
    "print(replaceAB(str,'a','b'))\n",
    "str = \"dhanvanth\"\n",
    "print(replaceAB(str,'a','b'))\n"
   ]
  },
  {
   "cell_type": "markdown",
   "id": "0cddd024",
   "metadata": {},
   "source": [
    "# Recursion remove 'x' from the String"
   ]
  },
  {
   "cell_type": "code",
   "execution_count": 16,
   "id": "c496dece",
   "metadata": {},
   "outputs": [
    {
     "name": "stdout",
     "output_type": "stream",
     "text": [
      "jabvabniab\n",
      "\n",
      "dhnvnth\n"
     ]
    }
   ],
   "source": [
    "def removeX(str,x):\n",
    "    if len(str) == 0:\n",
    "        return \"\"\n",
    "    if str[0] == x:\n",
    "        return removeX(str[1:],x)\n",
    "    return str[0] + removeX(str[1:],x)\n",
    "\n",
    "str = \"jdabvabndiab\"\n",
    "print(removeX(str,'d'))\n",
    "str = \"aaaaaaaaaaa\"\n",
    "print(removeX(str,'a'))\n",
    "str = \"dhanvanth\"\n",
    "print(removeX(str,'a'))"
   ]
  },
  {
   "cell_type": "code",
   "execution_count": 17,
   "id": "b2ec7d29",
   "metadata": {},
   "outputs": [
    {
     "name": "stdout",
     "output_type": "stream",
     "text": [
      "jabvabniab\n",
      "\n",
      "dhnvnth\n"
     ]
    }
   ],
   "source": [
    "def removeX2(str,x):\n",
    "    if len(str) == 0:\n",
    "        return \"\"\n",
    "    fstr = removeX2(str[1:],x)\n",
    "    if str[0] == x:\n",
    "        return fstr\n",
    "    return str[0]+fstr\n",
    "    \n",
    "str = \"jdabvabndiab\"\n",
    "print(removeX2(str,'d'))\n",
    "str = \"aaaaaaaaaaa\"\n",
    "print(removeX2(str,'a'))\n",
    "str = \"dhanvanth\"\n",
    "print(removeX2(str,'a'))"
   ]
  },
  {
   "cell_type": "markdown",
   "id": "b02ace8f",
   "metadata": {},
   "source": [
    "# Recursion replace 'pi' as '3.14' in a string"
   ]
  },
  {
   "cell_type": "code",
   "execution_count": 18,
   "id": "12c62217",
   "metadata": {},
   "outputs": [
    {
     "name": "stdout",
     "output_type": "stream",
     "text": [
      "a3.14b3.14\n",
      "p3.14p3.14pppp3.14ii3.143.14\n",
      "3.14dhan3.14vanth\n"
     ]
    }
   ],
   "source": [
    "# Recursion replace 'pi' as '3.14' in a string\n",
    "def replacePi(str):\n",
    "    if len(str) < 2:\n",
    "        return str\n",
    "    if str[0:2] == \"pi\":\n",
    "        return \"3.14\"+replacePi(str[2:])\n",
    "    return str[0]+replacePi(str[1:])\n",
    "\n",
    "str = \"apibpi\"\n",
    "print(replacePi(str))\n",
    "str = \"ppippipppppiiipipi\"\n",
    "print(replacePi(str))\n",
    "str = \"pidhanpivanth\"\n",
    "print(replacePi(str))"
   ]
  },
  {
   "cell_type": "markdown",
   "id": "f97fb20c",
   "metadata": {},
   "source": [
    "# Recursion remove duplicates in string"
   ]
  },
  {
   "cell_type": "code",
   "execution_count": 19,
   "id": "6d21c033",
   "metadata": {},
   "outputs": [
    {
     "name": "stdout",
     "output_type": "stream",
     "text": [
      "abc\n",
      "pipipipipi\n",
      "dhanvanth\n"
     ]
    }
   ],
   "source": [
    "def removeDuplicates(str):\n",
    "    if len(str) < 2:\n",
    "        return str\n",
    "    if str[0] == str[1]:\n",
    "        return removeDuplicates(str[1:])\n",
    "    return str[0] + removeDuplicates(str[1:])\n",
    "\n",
    "str = \"aaaabbbbcccc\"\n",
    "print(removeDuplicates(str))\n",
    "str = \"ppippipppppiiipipi\"\n",
    "print(removeDuplicates(str))\n",
    "str = \"ddhhaannvvaanntthh\"\n",
    "print(removeDuplicates(str))"
   ]
  },
  {
   "cell_type": "code",
   "execution_count": 20,
   "id": "f1f20777",
   "metadata": {},
   "outputs": [
    {
     "name": "stdout",
     "output_type": "stream",
     "text": [
      "abc\n",
      "pipipipipi\n",
      "dhanvanth\n"
     ]
    }
   ],
   "source": [
    "def removeDuplicates2(str):\n",
    "    if len(str) < 2:\n",
    "        return str\n",
    "    fstr = removeDuplicates2(str[1:])\n",
    "    if str[0] == str[1]:\n",
    "        return fstr\n",
    "    return str[0] + fstr\n",
    "\n",
    "str = \"aaaabbbbcccc\"\n",
    "print(removeDuplicates2(str))\n",
    "str = \"ppippipppppiiipipi\"\n",
    "print(removeDuplicates2(str))\n",
    "str = \"ddhhaannvvaanntthh\"\n",
    "print(removeDuplicates2(str))"
   ]
  },
  {
   "cell_type": "markdown",
   "id": "b3fed8d3",
   "metadata": {},
   "source": [
    "#Binary Search using recurison"
   ]
  },
  {
   "cell_type": "markdown",
   "id": "6841392c",
   "metadata": {},
   "source": [
    "# Binary Search using recurison"
   ]
  },
  {
   "cell_type": "code",
   "execution_count": 21,
   "id": "dd10c30b",
   "metadata": {},
   "outputs": [
    {
     "name": "stdout",
     "output_type": "stream",
     "text": [
      "2\n",
      "8\n",
      "5\n",
      "6\n"
     ]
    }
   ],
   "source": [
    "def binarySearch(lis, n, si, ei):\n",
    "    mid = int((si+ei)/2)\n",
    "    if lis[mid] == n:\n",
    "        return mid\n",
    "    if lis[mid] > n:\n",
    "        return binarySearch(lis,n,si,mid-1)\n",
    "    return binarySearch(lis,n,mid+1,ei)\n",
    "       \n",
    "\n",
    "lis = [0,1,2,3,4,5,6,7,8,9,10]\n",
    "si = 0\n",
    "ei = len(lis)\n",
    "print(binarySearch(lis,2,si,ei))\n",
    "print(binarySearch(lis,8,si,ei))\n",
    "print(binarySearch(lis,5,si,ei))\n",
    "print(binarySearch(lis,6,si,ei))"
   ]
  },
  {
   "cell_type": "markdown",
   "id": "af87af8b",
   "metadata": {},
   "source": [
    "# Merge Sort using Recursion"
   ]
  },
  {
   "cell_type": "code",
   "execution_count": 39,
   "id": "fd00e8fb",
   "metadata": {},
   "outputs": [
    {
     "data": {
      "text/plain": [
       "[1, 2, 3, 4, 5, 5, 6, 7, 8, 9, 33, 44, 55, 88]"
      ]
     },
     "execution_count": 39,
     "metadata": {},
     "output_type": "execute_result"
    }
   ],
   "source": [
    "def mergeSort(lis):\n",
    "    si = 0\n",
    "    ei = len(lis)\n",
    "    if ei <= 1:\n",
    "        return lis\n",
    "    mid = (si+ei)//2\n",
    "    lis1 = mergeSort(lis[si:mid])\n",
    "    lis2 = mergeSort(lis[mid:ei])\n",
    "    i = 0\n",
    "    j = 0 \n",
    "    lisI = 0\n",
    "    while(ei > 0 and i < len(lis1) and j < len(lis2)):\n",
    "        if(lis1[i] > lis2[j]):\n",
    "            lis[lisI] = lis2[j]\n",
    "            j = j+1\n",
    "        else:\n",
    "            lis[lisI] = lis1[i]\n",
    "            i = i+1\n",
    "        lisI = lisI+1\n",
    "        ei = ei-1\n",
    "        \n",
    "    while(i < len(lis1)):\n",
    "        lis[lisI] = lis1[i]\n",
    "        lisI = lisI+1\n",
    "        i = i+1\n",
    "    while(j < len(lis2)):\n",
    "        lis[lisI] = lis2[j]\n",
    "        lisI = lisI+1\n",
    "        j = j+1\n",
    "    return lis\n",
    "\n",
    "lis = [5,4,3,6,7,55,44,88,33,8,2,1,5,9]\n",
    "lis\n",
    "mergeSort(lis)\n",
    "lis"
   ]
  },
  {
   "cell_type": "markdown",
   "id": "92a45a06",
   "metadata": {},
   "source": [
    "# Quick sort using recursion"
   ]
  },
  {
   "cell_type": "code",
   "execution_count": 28,
   "id": "f696c28b",
   "metadata": {},
   "outputs": [
    {
     "data": {
      "text/plain": [
       "[1, 3, 2, 4, 5, 5, 7, 6, 8, 9, 10, 33, 44, 88, 55]"
      ]
     },
     "execution_count": 28,
     "metadata": {},
     "output_type": "execute_result"
    }
   ],
   "source": [
    "def swap(lis,ai,bi):\n",
    "    temp = lis[ai]\n",
    "    lis[ai] = lis[bi]\n",
    "    lis[bi] = temp\n",
    "    \n",
    "def quickSort(lis,si,ei):\n",
    "    if ei-si < 2:\n",
    "        return\n",
    "    pivot = ei\n",
    "    i = si\n",
    "    j = pivot-1\n",
    "    while(i < j):\n",
    "        if lis[i] > lis[pivot]:\n",
    "            swap(lis,i,j)\n",
    "            j = j-1\n",
    "        else:\n",
    "            i = i+1\n",
    "        if lis[j] < lis[pivot]:\n",
    "            swap(lis,j,i)\n",
    "            i = i+1\n",
    "        else:\n",
    "            j = j-1\n",
    "    swap(lis,j+1,pivot) #i == j at this position\n",
    "    pivot = j+1\n",
    "    quickSort(lis,si,pivot-1)\n",
    "    quickSort(lis,pivot+1,ei)\n",
    "    \n",
    "\n",
    "\n",
    "\n",
    "lis = [5,4,3,6,7,55,44,88,33,8,2,1,5,9,10]\n",
    "lis\n",
    "quickSort(lis,0,len(lis)-1)\n",
    "lis   "
   ]
  }
 ],
 "metadata": {
  "kernelspec": {
   "display_name": "Python 3 (ipykernel)",
   "language": "python",
   "name": "python3"
  },
  "language_info": {
   "codemirror_mode": {
    "name": "ipython",
    "version": 3
   },
   "file_extension": ".py",
   "mimetype": "text/x-python",
   "name": "python",
   "nbconvert_exporter": "python",
   "pygments_lexer": "ipython3",
   "version": "3.11.4"
  }
 },
 "nbformat": 4,
 "nbformat_minor": 5
}
