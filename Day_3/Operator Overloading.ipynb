{
 "cells": [
  {
   "cell_type": "markdown",
   "id": "8c58888e",
   "metadata": {},
   "source": [
    "# Method overloding\n",
    "https://www.geeksforgeeks.org/operator-overloading-in-python/"
   ]
  },
  {
   "cell_type": "code",
   "execution_count": 8,
   "id": "08cb04bc",
   "metadata": {},
   "outputs": [
    {
     "name": "stdout",
     "output_type": "stream",
     "text": [
      "the point is(2,3)\n",
      "the point is(4,5)\n",
      "the point is(6,8)\n",
      "True\n",
      "False\n"
     ]
    }
   ],
   "source": [
    "import math\n",
    "class Point:\n",
    "    def __init__(self,x,y):\n",
    "        self.__x = x\n",
    "        self.__y = y\n",
    "        \n",
    "        \n",
    "    def __str__(self):\n",
    "        return f\"the point is({self.__x},{self.__y})\"\n",
    "    \n",
    "    def __add__(self,p2):\n",
    "        return Point(self.__x + p2.__x, self.__y + p2.__y)\n",
    "    \n",
    "    def __lt__(self,p2):\n",
    "        return math.sqrt(self.__x**2 + self.__y**2) < math.sqrt(p2.__x**2 + p2.__y**2)\n",
    "    \n",
    "p1 = Point(2,3)\n",
    "print(p1)\n",
    "p2 = Point(4,5)\n",
    "print(p2)\n",
    "p3 = p1+p2\n",
    "print(p3)\n",
    "print(p1 < p2)\n",
    "print(p2 < p1)\n",
    "    "
   ]
  },
  {
   "cell_type": "code",
   "execution_count": null,
   "id": "74e42948",
   "metadata": {},
   "outputs": [],
   "source": []
  }
 ],
 "metadata": {
  "kernelspec": {
   "display_name": "Python 3 (ipykernel)",
   "language": "python",
   "name": "python3"
  },
  "language_info": {
   "codemirror_mode": {
    "name": "ipython",
    "version": 3
   },
   "file_extension": ".py",
   "mimetype": "text/x-python",
   "name": "python",
   "nbconvert_exporter": "python",
   "pygments_lexer": "ipython3",
   "version": "3.11.4"
  }
 },
 "nbformat": 4,
 "nbformat_minor": 5
}
