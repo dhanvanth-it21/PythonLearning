{
 "cells": [
  {
   "cell_type": "markdown",
   "id": "c4675363",
   "metadata": {},
   "source": [
    "# Multiple Inheritence and Method Resolution"
   ]
  },
  {
   "cell_type": "code",
   "execution_count": 26,
   "id": "5151657a",
   "metadata": {},
   "outputs": [
    {
     "name": "stdout",
     "output_type": "stream",
     "text": [
      "I am from child class and my name is : Dhanvanth\n",
      "I am from Father's class\n"
     ]
    },
    {
     "data": {
      "text/plain": [
       "'Father'"
      ]
     },
     "execution_count": 26,
     "metadata": {},
     "output_type": "execute_result"
    }
   ],
   "source": [
    "class Father:\n",
    "    \n",
    "    def __init__(self):\n",
    "        self.parent = \"Father\"\n",
    "        \n",
    "    def print(self):\n",
    "        print(\"I am from Father's class\")\n",
    "        \n",
    "class Mother:\n",
    "    \n",
    "    def __init__(self):\n",
    "        self.parent = \"Mother\"\n",
    "        \n",
    "    def print(self):\n",
    "        print(\"I am from Mother's class\")\n",
    "        \n",
    "class child(Father,Mother):\n",
    "    def __init__(self,name):\n",
    "        super().__init__()\n",
    "        self.name = name\n",
    "    \n",
    "    def printName(self):\n",
    "        print(f\"I am from child class and my name is : {self.name}\")\n",
    "        \n",
    "# here the child class inherits the print() from both mother and father\n",
    "# when the print function is called using the child object then it executes the print() from the class first inherited\n",
    "# here it first inherits the father class\n",
    "\n",
    "c = child(\"Dhanvanth\")\n",
    "c.printName()\n",
    "c.print()\n",
    "c.parent"
   ]
  },
  {
   "cell_type": "code",
   "execution_count": 27,
   "id": "c34fbfc4",
   "metadata": {},
   "outputs": [],
   "source": [
    "# it completly works on who is first inherited"
   ]
  },
  {
   "cell_type": "markdown",
   "id": "ec76eece",
   "metadata": {},
   "source": [
    "# Method Resolution"
   ]
  },
  {
   "cell_type": "code",
   "execution_count": 28,
   "id": "91ab426d",
   "metadata": {},
   "outputs": [],
   "source": [
    "class A:\n",
    "    def __init__(self):\n",
    "        self.parent = \"A\"\n",
    "        print(\"Parent was A\")\n",
    "        super().__init__()    # here again the next parent class is called for the 'self'\n",
    "\n",
    "class B:\n",
    "    def __init__(self):\n",
    "        self.parent = \"B\"\n",
    "        print(\"But now its B as of Mehtod resolution\")\n",
    "\n",
    "class C(A,B):\n",
    "    def __init__(self):\n",
    "        super().__init__()\n",
    "        \n"
   ]
  },
  {
   "cell_type": "code",
   "execution_count": 29,
   "id": "5bb768c0",
   "metadata": {},
   "outputs": [
    {
     "name": "stdout",
     "output_type": "stream",
     "text": [
      "[<class '__main__.C'>, <class '__main__.A'>, <class '__main__.B'>, <class 'object'>]\n"
     ]
    }
   ],
   "source": [
    "print(C.mro())"
   ]
  },
  {
   "cell_type": "code",
   "execution_count": 30,
   "id": "468fc62c",
   "metadata": {},
   "outputs": [],
   "source": [
    "# here the preference of the parent class is printed\n",
    "# C ==> A ==> B ==> object"
   ]
  },
  {
   "cell_type": "code",
   "execution_count": 31,
   "id": "95e4779c",
   "metadata": {},
   "outputs": [
    {
     "name": "stdout",
     "output_type": "stream",
     "text": [
      "Parent was A\n",
      "But now its B as of Mehtod resolution\n",
      "B\n"
     ]
    }
   ],
   "source": [
    "c = C()\n",
    "print(c.parent)"
   ]
  },
  {
   "cell_type": "markdown",
   "id": "b0548cba",
   "metadata": {},
   "source": [
    "# more complex relationship"
   ]
  },
  {
   "cell_type": "code",
   "execution_count": 32,
   "id": "45411cd1",
   "metadata": {},
   "outputs": [
    {
     "name": "stdout",
     "output_type": "stream",
     "text": [
      "[<class '__main__.Six'>, <class '__main__.Five'>, <class '__main__.Four'>, <class '__main__.One'>, <class '__main__.Two'>, <class '__main__.Three'>, <class 'object'>]\n"
     ]
    }
   ],
   "source": [
    "class One:\n",
    "    def __init__(self):\n",
    "        self.parent = \"One\"\n",
    "\n",
    "class Two:\n",
    "    def __init__(self):\n",
    "        self.parent = \"Two\"\n",
    "        \n",
    "class Three:\n",
    "    def __init__(self):\n",
    "        self.parent = \"Three\"\n",
    "        \n",
    "        \n",
    "class Four(One,Two):\n",
    "    def __init__(self):\n",
    "        self.parent = \"Four\"\n",
    "\n",
    "class Five(Two,Three):\n",
    "    def __init__(self):\n",
    "        self.parent = \"Five\"\n",
    "            \n",
    "        \n",
    "class Six(Five,Four,Three):\n",
    "    def __init__(self):\n",
    "        self.parent = \"Six\"\n",
    "        \n",
    "print(Six.mro())"
   ]
  },
  {
   "cell_type": "markdown",
   "id": "608e49ca",
   "metadata": {},
   "source": [
    "# Method Resolution is\n",
    "\n",
    "Six ==> Five ==> Two(X) ==> Three(X) ==> Four ==> One ==> Two ==> Three\n",
    "\n",
    "# when the the class repeates in the order the previous call will be rejected\n",
    "Six ==> Five ==> Four ==> One ==> Two ==> Three  # this is the final call\n"
   ]
  },
  {
   "cell_type": "code",
   "execution_count": null,
   "id": "789cd496",
   "metadata": {},
   "outputs": [],
   "source": []
  }
 ],
 "metadata": {
  "kernelspec": {
   "display_name": "Python 3 (ipykernel)",
   "language": "python",
   "name": "python3"
  },
  "language_info": {
   "codemirror_mode": {
    "name": "ipython",
    "version": 3
   },
   "file_extension": ".py",
   "mimetype": "text/x-python",
   "name": "python",
   "nbconvert_exporter": "python",
   "pygments_lexer": "ipython3",
   "version": "3.11.4"
  }
 },
 "nbformat": 4,
 "nbformat_minor": 5
}
