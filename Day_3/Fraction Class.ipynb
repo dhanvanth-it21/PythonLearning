{
 "cells": [
  {
   "cell_type": "code",
   "execution_count": 55,
   "id": "aca7d551",
   "metadata": {},
   "outputs": [],
   "source": [
    "class Fraction:\n",
    "    \n",
    "    def __init__(self,num = 0,den = 1):   #default parameter applied if no values is passed\n",
    "        \n",
    "            if den == 0:\n",
    "                #throw error => it can be done later\n",
    "                den = 1\n",
    "                \n",
    "            self.num = num\n",
    "            self.den = den\n",
    "            self.simplify()\n",
    "            self.printFraction()\n",
    "            \n",
    "            \n",
    "    def printFraction(self):\n",
    "        if self.num == 0:\n",
    "            print(0)\n",
    "        else:\n",
    "            print(f\"{self.num} / {self.den}\")\n",
    "            \n",
    "    def simplify(self):\n",
    "        if(self.num == 0):\n",
    "            return\n",
    "        current = min(self.num, self.den)\n",
    "        while(current > 1):\n",
    "            if(self.num % current == 0 and self.den % current == 0):\n",
    "                break\n",
    "            current -= 1\n",
    "        self.num = self.num//current\n",
    "        self.den = self.den//current\n",
    "            \n",
    "    def addFraction(self,fadd):\n",
    "        num = self.num * fadd.den + self.den * fadd.num\n",
    "        den = self.den * fadd.den\n",
    "        return Fraction(num,den)\n",
    "    def mulFraction(self,fmul):\n",
    "        num = self.num * fmul.num\n",
    "        den = self.den * fmul.den\n",
    "        return Fraction(num,den)"
   ]
  },
  {
   "cell_type": "code",
   "execution_count": 56,
   "id": "0a5cca8a",
   "metadata": {},
   "outputs": [
    {
     "name": "stdout",
     "output_type": "stream",
     "text": [
      "2 / 3\n"
     ]
    }
   ],
   "source": [
    "f1 = Fraction(2,3)"
   ]
  },
  {
   "cell_type": "code",
   "execution_count": 57,
   "id": "991ada91",
   "metadata": {},
   "outputs": [
    {
     "name": "stdout",
     "output_type": "stream",
     "text": [
      "0\n"
     ]
    }
   ],
   "source": [
    "f2 = Fraction()"
   ]
  },
  {
   "cell_type": "code",
   "execution_count": 58,
   "id": "21cbbbb2",
   "metadata": {},
   "outputs": [
    {
     "name": "stdout",
     "output_type": "stream",
     "text": [
      "3 / 1\n"
     ]
    }
   ],
   "source": [
    "f3 = Fraction(3)"
   ]
  },
  {
   "cell_type": "code",
   "execution_count": 59,
   "id": "ad5297f1",
   "metadata": {},
   "outputs": [
    {
     "name": "stdout",
     "output_type": "stream",
     "text": [
      "{'num': 2, 'den': 3}\n",
      "{'num': 0, 'den': 1}\n",
      "{'num': 3, 'den': 1}\n"
     ]
    }
   ],
   "source": [
    "print(f1.__dict__)\n",
    "print(f2.__dict__)\n",
    "print(f3.__dict__)"
   ]
  },
  {
   "cell_type": "code",
   "execution_count": 60,
   "id": "ffdd76e3",
   "metadata": {},
   "outputs": [
    {
     "name": "stdout",
     "output_type": "stream",
     "text": [
      "2 / 3\n"
     ]
    }
   ],
   "source": [
    "f4 = Fraction(20,30)"
   ]
  },
  {
   "cell_type": "code",
   "execution_count": 61,
   "id": "d0eb20ed",
   "metadata": {},
   "outputs": [
    {
     "name": "stdout",
     "output_type": "stream",
     "text": [
      "19 / 5\n"
     ]
    }
   ],
   "source": [
    "f5 = Fraction(95,25)"
   ]
  },
  {
   "cell_type": "code",
   "execution_count": 62,
   "id": "59dc7828",
   "metadata": {},
   "outputs": [
    {
     "name": "stdout",
     "output_type": "stream",
     "text": [
      "67 / 15\n"
     ]
    }
   ],
   "source": [
    "addf1 = f4.addFraction(f5)"
   ]
  },
  {
   "cell_type": "code",
   "execution_count": 63,
   "id": "71e80c99",
   "metadata": {},
   "outputs": [
    {
     "name": "stdout",
     "output_type": "stream",
     "text": [
      "38 / 15\n"
     ]
    }
   ],
   "source": [
    "mulf1 = f4.mulFraction(f5)"
   ]
  },
  {
   "cell_type": "code",
   "execution_count": 64,
   "id": "25da5a7b",
   "metadata": {},
   "outputs": [
    {
     "name": "stdout",
     "output_type": "stream",
     "text": [
      "11 / 3\n"
     ]
    }
   ],
   "source": [
    "addf2 = f4.addFraction(f3)"
   ]
  },
  {
   "cell_type": "code",
   "execution_count": 65,
   "id": "6bb92454",
   "metadata": {},
   "outputs": [
    {
     "name": "stdout",
     "output_type": "stream",
     "text": [
      "2 / 3\n",
      "7 / 8\n",
      "37 / 24\n",
      "7 / 12\n"
     ]
    }
   ],
   "source": [
    "f5 = Fraction(4,6)\n",
    "f6 = Fraction(7,8)\n",
    "addf3 = f5.addFraction(f6)\n",
    "mulf2 = f5.mulFraction(f6)"
   ]
  },
  {
   "cell_type": "code",
   "execution_count": null,
   "id": "c4c4c022",
   "metadata": {},
   "outputs": [],
   "source": []
  }
 ],
 "metadata": {
  "kernelspec": {
   "display_name": "Python 3 (ipykernel)",
   "language": "python",
   "name": "python3"
  },
  "language_info": {
   "codemirror_mode": {
    "name": "ipython",
    "version": 3
   },
   "file_extension": ".py",
   "mimetype": "text/x-python",
   "name": "python",
   "nbconvert_exporter": "python",
   "pygments_lexer": "ipython3",
   "version": "3.11.4"
  }
 },
 "nbformat": 4,
 "nbformat_minor": 5
}
