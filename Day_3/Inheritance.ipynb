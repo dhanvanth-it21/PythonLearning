{
 "cells": [
  {
   "cell_type": "markdown",
   "id": "fd53f438",
   "metadata": {},
   "source": [
    "# Inheritance , Polymorphism, Protected Varaible\n",
    "\n",
    "how to call a parent class from the child class ==> using super()\n",
    "\n",
    "invoking parent class init while object is created for the child class\n",
    "\n",
    "how to call the method present in the parent class form child class\n",
    "\n",
    "Polymorphism : overriding concept\n",
    "\n",
    "concept of Protected varialbe"
   ]
  },
  {
   "cell_type": "code",
   "execution_count": 21,
   "id": "0239f3f9",
   "metadata": {},
   "outputs": [],
   "source": [
    "class Vehicle:\n",
    "    \n",
    "    def __init__(self,colour,maxSpeed):\n",
    "        self._colour = colour\n",
    "        self.__maxSpeed = maxSpeed # as maxSpeed is private member it needs getters and setter to acces it from outside the class\n",
    "        \n",
    "    def getMaxSpeed(self):\n",
    "        return self.__maxSpeed\n",
    "    \n",
    "    def setMaxSpeed(self,maxSpeed):\n",
    "        self.__maxSpeed = maxSpeed\n",
    "        \n",
    "    def printVehicleDetails(self):\n",
    "        print(f\"Colour : {self._colour}\")\n",
    "        print(f\"maxSpeed : {self.__maxSpeed}\")\n",
    "        \n",
    "    def printDetails(self):\n",
    "        print(f\"On vehicle Information it's colour is'{self._colour}' and of '{self.__maxSpeed}Km/Hr max speed'\")\n",
    "        \n",
    "        \n",
    "class Car(Vehicle) :  # inherits Vehicle class from car class\n",
    "    \n",
    "    def __init__(self,colour,maxSpeed,numGears,isConvertible):\n",
    "        \n",
    "        super().__init__(colour,maxSpeed)    # here the parent class is invoked\n",
    "        self.numGears = numGears\n",
    "        self.isConvertible = isConvertible\n",
    "        \n",
    "    def printCarDetails(self):\n",
    "        super().printVehicleDetails()  # or => self.printVehicleDetails()\n",
    "        # the above both refers the same becuse the child class can access properties of parent class\n",
    "        print(f\"numGears : {self.numGears}\")\n",
    "        print(f\"isConvertible : {self.isConvertible}\")\n",
    "        \n",
    "    def printDetails(self):  \n",
    "        super().printDetails()\n",
    "        print(f\"on car information it  is having '{self.numGears}' no. of gears and convetible : {self.isConvertible}\")"
   ]
  },
  {
   "cell_type": "code",
   "execution_count": 22,
   "id": "be4c6ea3",
   "metadata": {},
   "outputs": [
    {
     "name": "stdout",
     "output_type": "stream",
     "text": [
      "Colour : red\n",
      "maxSpeed : 120\n",
      "numGears : 5\n",
      "isConvertible : False\n"
     ]
    }
   ],
   "source": [
    "honda = Car(\"red\",120,5,False)\n",
    "honda.printCarDetails()"
   ]
  },
  {
   "cell_type": "code",
   "execution_count": 23,
   "id": "4a10448d",
   "metadata": {},
   "outputs": [
    {
     "name": "stdout",
     "output_type": "stream",
     "text": [
      "On vehicle Information it's colour is'red' and of '120Km/Hr max speed'\n",
      "on car information it  is having '5' no. of gears and convetible : False\n"
     ]
    }
   ],
   "source": [
    "honda.printDetails()"
   ]
  },
  {
   "cell_type": "code",
   "execution_count": 24,
   "id": "d2e8090c",
   "metadata": {},
   "outputs": [],
   "source": [
    "# Polymorphism : many form for same name \n",
    "# here printDetails is on both car class and vehicle class\n",
    "# according to the overriding concept first the interpretur check whether it is present in the child \n",
    "# class or not, if not then it call's the parent class method"
   ]
  },
  {
   "cell_type": "code",
   "execution_count": 25,
   "id": "733a28c3",
   "metadata": {},
   "outputs": [],
   "source": [
    "# now Protected varialbes\n",
    "# in python there no concept like protected access modifier because python thinks tht the programmer is sensible\n",
    "# as a name convention _ is added in front of the protected variable"
   ]
  },
  {
   "cell_type": "code",
   "execution_count": 28,
   "id": "58f8309f",
   "metadata": {},
   "outputs": [
    {
     "data": {
      "text/plain": [
       "'red'"
      ]
     },
     "execution_count": 28,
     "metadata": {},
     "output_type": "execute_result"
    }
   ],
   "source": [
    "honda._colour  # as here i am able to use the protected variable outside the class and subclass\n",
    "# it is just a naming convention to tell it is a protected vriable and not to modify it outside the class and subclass"
   ]
  },
  {
   "cell_type": "code",
   "execution_count": null,
   "id": "e6e79e5e",
   "metadata": {},
   "outputs": [],
   "source": []
  }
 ],
 "metadata": {
  "kernelspec": {
   "display_name": "Python 3 (ipykernel)",
   "language": "python",
   "name": "python3"
  },
  "language_info": {
   "codemirror_mode": {
    "name": "ipython",
    "version": 3
   },
   "file_extension": ".py",
   "mimetype": "text/x-python",
   "name": "python",
   "nbconvert_exporter": "python",
   "pygments_lexer": "ipython3",
   "version": "3.11.4"
  }
 },
 "nbformat": 4,
 "nbformat_minor": 5
}
