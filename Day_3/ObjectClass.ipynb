{
 "cells": [
  {
   "cell_type": "markdown",
   "id": "9c7e10e6",
   "metadata": {},
   "source": [
    "# Object Class\n",
    "\n",
    "here every class by default inherits Object class as same asa in Java\n",
    "\n",
    "from there, three importtant methids are used\n",
    "\n",
    "__new__    ==> to create a new object mostly not used we direct achieve it by __init__\n",
    "\n",
    "__init__   ==> we override it in our class and used to initialize the class members\n",
    "\n",
    "__str__    ==> it is same as the toString() in java which prints the discription of the object it return a string"
   ]
  },
  {
   "cell_type": "code",
   "execution_count": 6,
   "id": "1506625c",
   "metadata": {},
   "outputs": [],
   "source": [
    "# class demo:\n",
    "#     pass\n",
    "\n",
    "# class demo(object):\n",
    "#     pass\n",
    "\n",
    "# both the above methos od structuring the class is same "
   ]
  },
  {
   "cell_type": "code",
   "execution_count": 7,
   "id": "8ba35c1b",
   "metadata": {},
   "outputs": [
    {
     "name": "stdout",
     "output_type": "stream",
     "text": [
      "this is a circle class of radius :  12\n"
     ]
    }
   ],
   "source": [
    "class Circle(object):\n",
    "    \n",
    "    def __init__(self,radius):\n",
    "        self.radius = radius\n",
    "        \n",
    "    def __str__(self):\n",
    "        return f\"this is a circle class of radius :  {self.radius}\"\n",
    "        \n",
    "c = Circle(12)\n",
    "print(c)"
   ]
  },
  {
   "cell_type": "code",
   "execution_count": null,
   "id": "fabb560a",
   "metadata": {},
   "outputs": [],
   "source": []
  }
 ],
 "metadata": {
  "kernelspec": {
   "display_name": "Python 3 (ipykernel)",
   "language": "python",
   "name": "python3"
  },
  "language_info": {
   "codemirror_mode": {
    "name": "ipython",
    "version": 3
   },
   "file_extension": ".py",
   "mimetype": "text/x-python",
   "name": "python",
   "nbconvert_exporter": "python",
   "pygments_lexer": "ipython3",
   "version": "3.11.4"
  }
 },
 "nbformat": 4,
 "nbformat_minor": 5
}
